{
 "cells": [
  {
   "cell_type": "markdown",
   "id": "1f313d1a",
   "metadata": {},
   "source": [
    "# Wrangle: Acquire & Prepare"
   ]
  },
  {
   "cell_type": "markdown",
   "id": "c4a566dd",
   "metadata": {},
   "source": [
    "<hr style=\"border:2px solid gray\">"
   ]
  },
  {
   "cell_type": "markdown",
   "id": "61085530",
   "metadata": {},
   "source": [
    "### Exercises I\n",
    "Let's review the steps we take at the beginning of each new module.\n",
    "\n",
    "1. Create a new repository named regression-exercises in your GitHub; all of your Regression work will be housed here.\n",
    "2. Clone this repository within your local codeup-data-science directory.\n",
    "3. Create a .gitignore and make sure your list of 'files to ignore' includes your env.py file.\n",
    "4. Ceate a README.md file that outlines the contents and purpose of your repository.\n",
    "5. Add, commit, and push these two files.\n",
    "6. Now you can add your env.py file to this repository to access the Codeup database server.\n",
    "7. For these exercises, you will create wrangle.ipynb and wrangle.py files to hold necessary functions.\n",
    "8. As always, add, commit, and push your work often."
   ]
  },
  {
   "cell_type": "markdown",
   "id": "9d52ed0d",
   "metadata": {},
   "source": [
    "### Exercises II\n",
    "Let's set up an example scenario as perspective for our regression exercises using the Zillow dataset.\n",
    "\n",
    "As a Codeup data science graduate, you want to show off your skills to the Zillow data science team in hopes of getting an interview for a position you saw pop up on LinkedIn. You thought it might look impressive to build an end-to-end project in which you use some of their Kaggle data to predict property values using some of their available features; who knows, you might even do some feature engineering to blow them away. Your goal is to predict the values of single unit properties using the obervations from 2017.\n",
    "\n",
    "In these exercises, you will complete the first step toward the above goal: acquire and prepare the necessary Zillow data from the zillow database in the Codeup database server.\n",
    "\n",
    "1. Acquire bedroomcnt, bathroomcnt, calculatedfinishedsquarefeet, taxvaluedollarcnt, yearbuilt, taxamount, and fips from the zillow database for all 'Single Family Residential' properties.\n",
    "2. Using your acquired Zillow data, walk through the summarization and cleaning steps in your wrangle.ipynb file like we did above. You may handle the missing values however you feel is appropriate and meaningful; remember to document your process and decisions using markdown and code commenting where helpful.\n",
    "3. Store all of the necessary functions to automate your process from acquiring the data to returning a cleaned dataframe with no missing values in your wrangle.py file. Name your final function wrangle_zillow."
   ]
  },
  {
   "cell_type": "code",
   "execution_count": 1,
   "id": "0ff301a2",
   "metadata": {},
   "outputs": [],
   "source": [
    "import pandas as pd\n",
    "import numpy as np\n",
    "import matplotlib.pyplot as plt\n",
    "import seaborn as sns\n",
    "\n",
    "from env import user, password, host\n",
    "import os\n",
    "\n",
    "from sklearn.model_selection import train_test_split\n",
    "from sklearn.impute import SimpleImputer\n",
    "\n",
    "import warnings\n",
    "warnings.filterwarnings(\"ignore\")"
   ]
  },
  {
   "cell_type": "markdown",
   "id": "b507ba0c",
   "metadata": {},
   "source": [
    "### #1. Acquire bedroomcnt, bathroomcnt, calculatedfinishedsquarefeet, taxvaluedollarcnt, yearbuilt, taxamount, and fips from the zillow database for all 'Single Family Residential' properties."
   ]
  },
  {
   "cell_type": "code",
   "execution_count": 2,
   "id": "4301977f",
   "metadata": {},
   "outputs": [],
   "source": [
    "#connect to sql zillow database\n",
    "url = f\"mysql+pymysql://{user}:{password}@{host}/zillow\"\n",
    "\n",
    "#use this query to get desired info    \n",
    "sql_query = '''\n",
    "    SELECT bedroomcnt, \n",
    "    bathroomcnt, \n",
    "    calculatedfinishedsquarefeet, \n",
    "    taxvaluedollarcnt, \n",
    "    yearbuilt, \n",
    "    taxamount, \n",
    "    fips\n",
    "    FROM properties_2017\n",
    "    WHERE propertylandusetypeid = 261'''"
   ]
  },
  {
   "cell_type": "code",
   "execution_count": 3,
   "id": "3d95ec17",
   "metadata": {},
   "outputs": [],
   "source": [
    "#assign the variable \n",
    "df = pd.read_sql(sql_query, url)"
   ]
  },
  {
   "cell_type": "code",
   "execution_count": 4,
   "id": "3dfcbc9d",
   "metadata": {},
   "outputs": [
    {
     "data": {
      "text/html": [
       "<div>\n",
       "<style scoped>\n",
       "    .dataframe tbody tr th:only-of-type {\n",
       "        vertical-align: middle;\n",
       "    }\n",
       "\n",
       "    .dataframe tbody tr th {\n",
       "        vertical-align: top;\n",
       "    }\n",
       "\n",
       "    .dataframe thead th {\n",
       "        text-align: right;\n",
       "    }\n",
       "</style>\n",
       "<table border=\"1\" class=\"dataframe\">\n",
       "  <thead>\n",
       "    <tr style=\"text-align: right;\">\n",
       "      <th></th>\n",
       "      <th>bedroomcnt</th>\n",
       "      <th>bathroomcnt</th>\n",
       "      <th>calculatedfinishedsquarefeet</th>\n",
       "      <th>taxvaluedollarcnt</th>\n",
       "      <th>yearbuilt</th>\n",
       "      <th>taxamount</th>\n",
       "      <th>fips</th>\n",
       "    </tr>\n",
       "  </thead>\n",
       "  <tbody>\n",
       "    <tr>\n",
       "      <th>0</th>\n",
       "      <td>0.0</td>\n",
       "      <td>0.0</td>\n",
       "      <td>NaN</td>\n",
       "      <td>27516.0</td>\n",
       "      <td>NaN</td>\n",
       "      <td>NaN</td>\n",
       "      <td>6037.0</td>\n",
       "    </tr>\n",
       "    <tr>\n",
       "      <th>1</th>\n",
       "      <td>0.0</td>\n",
       "      <td>0.0</td>\n",
       "      <td>NaN</td>\n",
       "      <td>10.0</td>\n",
       "      <td>NaN</td>\n",
       "      <td>NaN</td>\n",
       "      <td>6037.0</td>\n",
       "    </tr>\n",
       "    <tr>\n",
       "      <th>2</th>\n",
       "      <td>0.0</td>\n",
       "      <td>0.0</td>\n",
       "      <td>NaN</td>\n",
       "      <td>10.0</td>\n",
       "      <td>NaN</td>\n",
       "      <td>NaN</td>\n",
       "      <td>6037.0</td>\n",
       "    </tr>\n",
       "    <tr>\n",
       "      <th>3</th>\n",
       "      <td>0.0</td>\n",
       "      <td>0.0</td>\n",
       "      <td>NaN</td>\n",
       "      <td>2108.0</td>\n",
       "      <td>NaN</td>\n",
       "      <td>174.21</td>\n",
       "      <td>6037.0</td>\n",
       "    </tr>\n",
       "    <tr>\n",
       "      <th>4</th>\n",
       "      <td>4.0</td>\n",
       "      <td>2.0</td>\n",
       "      <td>3633.0</td>\n",
       "      <td>296425.0</td>\n",
       "      <td>2005.0</td>\n",
       "      <td>6941.39</td>\n",
       "      <td>6037.0</td>\n",
       "    </tr>\n",
       "  </tbody>\n",
       "</table>\n",
       "</div>"
      ],
      "text/plain": [
       "   bedroomcnt  bathroomcnt  calculatedfinishedsquarefeet  taxvaluedollarcnt  \\\n",
       "0         0.0          0.0                           NaN            27516.0   \n",
       "1         0.0          0.0                           NaN               10.0   \n",
       "2         0.0          0.0                           NaN               10.0   \n",
       "3         0.0          0.0                           NaN             2108.0   \n",
       "4         4.0          2.0                        3633.0           296425.0   \n",
       "\n",
       "   yearbuilt  taxamount    fips  \n",
       "0        NaN        NaN  6037.0  \n",
       "1        NaN        NaN  6037.0  \n",
       "2        NaN        NaN  6037.0  \n",
       "3        NaN     174.21  6037.0  \n",
       "4     2005.0    6941.39  6037.0  "
      ]
     },
     "execution_count": 4,
     "metadata": {},
     "output_type": "execute_result"
    }
   ],
   "source": [
    "#take a look at the data\n",
    "df.head()"
   ]
  },
  {
   "cell_type": "code",
   "execution_count": 5,
   "id": "184e7b1f",
   "metadata": {},
   "outputs": [
    {
     "name": "stdout",
     "output_type": "stream",
     "text": [
      "<class 'pandas.core.frame.DataFrame'>\n",
      "RangeIndex: 2152863 entries, 0 to 2152862\n",
      "Data columns (total 7 columns):\n",
      " #   Column                        Dtype  \n",
      "---  ------                        -----  \n",
      " 0   bedroomcnt                    float64\n",
      " 1   bathroomcnt                   float64\n",
      " 2   calculatedfinishedsquarefeet  float64\n",
      " 3   taxvaluedollarcnt             float64\n",
      " 4   yearbuilt                     float64\n",
      " 5   taxamount                     float64\n",
      " 6   fips                          float64\n",
      "dtypes: float64(7)\n",
      "memory usage: 115.0 MB\n"
     ]
    }
   ],
   "source": [
    "df.info()"
   ]
  },
  {
   "cell_type": "markdown",
   "id": "bc202cef",
   "metadata": {},
   "source": [
    "<b>We can turn this into its own module\n",
    "    <br>\n",
    "--->acquire.py</b>"
   ]
  },
  {
   "cell_type": "code",
   "execution_count": 6,
   "id": "26493d92",
   "metadata": {},
   "outputs": [],
   "source": [
    "#Acquire.py\n",
    "from env import host, user, password\n",
    "\n",
    "# Create helper function to get the necessary connection url.\n",
    "def get_connection(db_name):\n",
    "    '''\n",
    "    This function uses my info from my env file to\n",
    "    create a connection url to access the Codeup db.\n",
    "    '''\n",
    "    return f'mysql+pymysql://{user}:{password}@{host}/{db_name}'\n",
    "    \n",
    "def get_zillow_data():\n",
    "    '''\n",
    "    This function reads in the Zillow data from the Codeup db\n",
    "    and returns a pandas DataFrame with cbedroomcnt, bathroomcnt, calculatedfinishedsquarefeet, taxvaluedollarcnt, yearbuilt, taxamount, and fips\n",
    "    for all Single Family Residential properties.\n",
    "    '''\n",
    "    \n",
    "    zillow_query = '''\n",
    "    SELECT bedroomcnt, bathroomcnt, calculatedfinishedsquarefeet, taxvaluedollarcnt, yearbuilt, taxamount, fips\n",
    "    FROM properties_2017\n",
    "    WHERE propertylandusetypeid = 261\n",
    "    '''\n",
    "    return pd.read_sql(zillow_query, get_connection('zillow'))"
   ]
  },
  {
   "cell_type": "markdown",
   "id": "2e277f81",
   "metadata": {},
   "source": [
    "<hr style=\"border:1px solid black\">"
   ]
  },
  {
   "cell_type": "markdown",
   "id": "ffe218fd",
   "metadata": {},
   "source": [
    "### #2. Using your acquired Zillow data, walk through the summarization and cleaning steps in your wrangle.ipynb file like we did above. You may handle the missing values however you feel is appropriate and meaningful; remember to document your process and decisions using markdown and code commenting where helpful."
   ]
  },
  {
   "cell_type": "markdown",
   "id": "a59289f7",
   "metadata": {},
   "source": [
    "<b>Step 1: Clean the data</b>"
   ]
  },
  {
   "cell_type": "code",
   "execution_count": 7,
   "id": "09f40673",
   "metadata": {},
   "outputs": [
    {
     "data": {
      "text/plain": [
       "['bedroomcnt',\n",
       " 'bathroomcnt',\n",
       " 'calculatedfinishedsquarefeet',\n",
       " 'taxvaluedollarcnt',\n",
       " 'yearbuilt',\n",
       " 'taxamount',\n",
       " 'fips']"
      ]
     },
     "execution_count": 7,
     "metadata": {},
     "output_type": "execute_result"
    }
   ],
   "source": [
    "#take a look at our columns\n",
    "df.columns.tolist()"
   ]
  },
  {
   "cell_type": "code",
   "execution_count": 8,
   "id": "b7fb91c9",
   "metadata": {},
   "outputs": [],
   "source": [
    "#let's rename the columns to be more readable\n",
    "df = df.rename(columns = {'bedroomcnt':'bedrooms', \n",
    "                          'bathroomcnt':'bathrooms', \n",
    "                          'calculatedfinishedsquarefeet':'sqft',\n",
    "                          'taxvaluedollarcnt':'tax_value', \n",
    "                          'yearbuilt':'year_built'})"
   ]
  },
  {
   "cell_type": "markdown",
   "id": "be5d268b",
   "metadata": {},
   "source": [
    "<b>Step 2: Deal with nulls</b>"
   ]
  },
  {
   "cell_type": "code",
   "execution_count": 9,
   "id": "7e47463d",
   "metadata": {},
   "outputs": [
    {
     "data": {
      "text/plain": [
       "bedrooms        11\n",
       "bathrooms       11\n",
       "sqft          8484\n",
       "tax_value      493\n",
       "year_built    9337\n",
       "taxamount     4442\n",
       "fips             0\n",
       "dtype: int64"
      ]
     },
     "execution_count": 9,
     "metadata": {},
     "output_type": "execute_result"
    }
   ],
   "source": [
    "#find nulls in each column\n",
    "df.isnull().sum()"
   ]
  },
  {
   "cell_type": "code",
   "execution_count": 10,
   "id": "ec2c1b24",
   "metadata": {},
   "outputs": [
    {
     "data": {
      "text/plain": [
       "(2152863, 7)"
      ]
     },
     "execution_count": 10,
     "metadata": {},
     "output_type": "execute_result"
    }
   ],
   "source": [
    "df.shape"
   ]
  },
  {
   "cell_type": "code",
   "execution_count": 11,
   "id": "1e49106b",
   "metadata": {},
   "outputs": [
    {
     "data": {
      "text/plain": [
       "bedrooms      0.000005\n",
       "bathrooms     0.000005\n",
       "sqft          0.003941\n",
       "tax_value     0.000229\n",
       "year_built    0.004337\n",
       "taxamount     0.002063\n",
       "fips          0.000000\n",
       "dtype: float64"
      ]
     },
     "execution_count": 11,
     "metadata": {},
     "output_type": "execute_result"
    }
   ],
   "source": [
    "df.isnull().sum() / df.shape[0]"
   ]
  },
  {
   "cell_type": "markdown",
   "id": "956b1bed",
   "metadata": {},
   "source": [
    "<b>Note</b>:\n",
    "    <br>\n",
    "- ```bedrooms``` and ```bathrooms``` is less than .001% null\n",
    "- ```sqft``` is 0.4% null\n",
    "- ```tax_value``` is 0.02% null\n",
    "- ```year_built``` is 0.4% null\n",
    "- ```taxamount``` is 0.2% null\n",
    "\n",
    "<br>\n",
    "Therefore, dropping our nulls would be our best bet in this case."
   ]
  },
  {
   "cell_type": "code",
   "execution_count": 12,
   "id": "38f7e74f",
   "metadata": {},
   "outputs": [],
   "source": [
    "#drop nulls\n",
    "df = df.dropna()"
   ]
  },
  {
   "cell_type": "code",
   "execution_count": 13,
   "id": "5b92422b",
   "metadata": {},
   "outputs": [
    {
     "data": {
      "text/plain": [
       "bedrooms      0\n",
       "bathrooms     0\n",
       "sqft          0\n",
       "tax_value     0\n",
       "year_built    0\n",
       "taxamount     0\n",
       "fips          0\n",
       "dtype: int64"
      ]
     },
     "execution_count": 13,
     "metadata": {},
     "output_type": "execute_result"
    }
   ],
   "source": [
    "#make sure all our nulls are nulls dropped\n",
    "df.isnull().sum()"
   ]
  },
  {
   "cell_type": "markdown",
   "id": "c390c087",
   "metadata": {},
   "source": [
    "<b>Step 3: Split the data</b>"
   ]
  },
  {
   "cell_type": "code",
   "execution_count": 14,
   "id": "408bd01c",
   "metadata": {},
   "outputs": [],
   "source": [
    "train_validate, test = train_test_split(df, test_size=.2, random_state=13)\n",
    "train, validate = train_test_split(train_validate, test_size=.25, random_state=13)"
   ]
  },
  {
   "cell_type": "code",
   "execution_count": 15,
   "id": "397dfd3e",
   "metadata": {},
   "outputs": [
    {
     "data": {
      "text/plain": [
       "((1284141, 7), (428047, 7), (428047, 7))"
      ]
     },
     "execution_count": 15,
     "metadata": {},
     "output_type": "execute_result"
    }
   ],
   "source": [
    "#take a look at the split dataframes\n",
    "train.shape, validate.shape, test.shape"
   ]
  },
  {
   "cell_type": "code",
   "execution_count": 16,
   "id": "2487a907",
   "metadata": {},
   "outputs": [
    {
     "name": "stdout",
     "output_type": "stream",
     "text": [
      "<class 'pandas.core.frame.DataFrame'>\n",
      "Int64Index: 1284141 entries, 110067 to 365382\n",
      "Data columns (total 7 columns):\n",
      " #   Column      Non-Null Count    Dtype  \n",
      "---  ------      --------------    -----  \n",
      " 0   bedrooms    1284141 non-null  float64\n",
      " 1   bathrooms   1284141 non-null  float64\n",
      " 2   sqft        1284141 non-null  float64\n",
      " 3   tax_value   1284141 non-null  float64\n",
      " 4   year_built  1284141 non-null  float64\n",
      " 5   taxamount   1284141 non-null  float64\n",
      " 6   fips        1284141 non-null  float64\n",
      "dtypes: float64(7)\n",
      "memory usage: 78.4 MB\n"
     ]
    }
   ],
   "source": [
    "train.info()"
   ]
  },
  {
   "cell_type": "markdown",
   "id": "7773e31d",
   "metadata": {},
   "source": [
    "<b>We can turn this into its own module\n",
    "    <br>\n",
    "--->prepare.py</b>"
   ]
  },
  {
   "cell_type": "code",
   "execution_count": 17,
   "id": "93b0ade4",
   "metadata": {},
   "outputs": [],
   "source": [
    "#prepare.py\n",
    "\n",
    "def prep_zillow(df):\n",
    "    '''\n",
    "    This function takes in the zillow df acquired by get_zillow_file\n",
    "    Returns a cleaned zillow df.\n",
    "    '''\n",
    "    #change column names to be more legible\n",
    "    df = df.rename(columns={'bedroomcnt':'bedrooms', \n",
    "                          'bathroomcnt':'bathrooms', \n",
    "                          'calculatedfinishedsquarefeet':'sqft',\n",
    "                          'taxvaluedollarcnt':'tax_value', \n",
    "                          'yearbuilt':'year_built'})\n",
    "    \n",
    "    #drop null values- at most there were 9000 nulls (this is only 0.5% of 2.1M)\n",
    "    df = df.dropna()\n",
    "\n",
    "    #drop duplicates\n",
    "    df.drop_duplicates(inplace=True)\n",
    "    \n",
    "    return df"
   ]
  },
  {
   "cell_type": "markdown",
   "id": "fbac1fdb",
   "metadata": {},
   "source": [
    "<hr style=\"border:1px solid black\">"
   ]
  },
  {
   "cell_type": "markdown",
   "id": "d09cdb3d",
   "metadata": {},
   "source": [
    "### #3. Store all of the necessary functions to automate your process from acquiring the data to returning a cleaned dataframe with no missing values in your wrangle.py file. Name your final function wrangle_zillow."
   ]
  },
  {
   "cell_type": "markdown",
   "id": "6c37c5b4",
   "metadata": {},
   "source": [
    "<b>Now, let's add ```acquire.py``` and ```prepare.py``` together into a ```wrangle.py```</b>\n"
   ]
  },
  {
   "cell_type": "code",
   "execution_count": 18,
   "id": "eb289a6b",
   "metadata": {},
   "outputs": [],
   "source": [
    "#wrangle.py\n",
    "\n",
    "def acquire_zillow():\n",
    "    '''\n",
    "    This function checks to see if zillow.csv already exists, \n",
    "    if it does not, one is created\n",
    "    '''\n",
    "    #check to see if telco_churn.csv already exist\n",
    "    if os.path.isfile('zillow.csv'):\n",
    "        df = pd.read_csv('zillow.csv', index_col=0)\n",
    "    \n",
    "    else:\n",
    "\n",
    "        #creates new csv if one does not already exist\n",
    "        df = get_zillow_data()\n",
    "        df.to_csv('zillow.csv')\n",
    "\n",
    "    return df\n",
    "\n",
    "def prep_zillow(df):\n",
    "    '''\n",
    "    This function takes in the zillow df\n",
    "    then the data is cleaned and returned\n",
    "    '''\n",
    "    #change column names to be more readable\n",
    "    df = df.rename(columns={'bedroomcnt':'bedrooms', \n",
    "                          'bathroomcnt':'bathrooms', \n",
    "                          'calculatedfinishedsquarefeet':'sqft',\n",
    "                          'taxvaluedollarcnt':'tax_value', \n",
    "                          'yearbuilt':'year_built'})\n",
    "\n",
    "    #drop null values- at most there were 9000 nulls (this is only 0.5% of 2.1M)\n",
    "    df = df.dropna()\n",
    "\n",
    "    #drop duplicates\n",
    "    df.drop_duplicates(inplace=True)\n",
    "    \n",
    "    # train/validate/test split\n",
    "    train_validate, test = train_test_split(df, test_size=.2, random_state=13)\n",
    "    train, validate = train_test_split(train_validate, test_size=.25, random_state=13)\n",
    "    \n",
    "    return train, validate, test\n",
    "\n",
    "\n",
    "def wrangle_zillow():\n",
    "    '''\n",
    "    This function uses the acquire and prepare functions\n",
    "    and returns the split/cleaned dataframe\n",
    "    '''\n",
    "    train, validate, test = prep_zillow(acquire_zillow())\n",
    "    \n",
    "    return train, validate, test"
   ]
  },
  {
   "cell_type": "code",
   "execution_count": 19,
   "id": "47256614",
   "metadata": {},
   "outputs": [],
   "source": [
    "#try our new wrangle module\n",
    "train, validate, test = wrangle_zillow()"
   ]
  },
  {
   "cell_type": "code",
   "execution_count": 20,
   "id": "594ffdc0",
   "metadata": {},
   "outputs": [
    {
     "data": {
      "text/plain": [
       "((1278128, 7), (426043, 7), (426043, 7))"
      ]
     },
     "execution_count": 20,
     "metadata": {},
     "output_type": "execute_result"
    }
   ],
   "source": [
    "#take a look at the split dataframes\n",
    "train.shape, validate.shape, test.shape"
   ]
  },
  {
   "cell_type": "code",
   "execution_count": 21,
   "id": "123368f1",
   "metadata": {},
   "outputs": [
    {
     "data": {
      "text/html": [
       "<div>\n",
       "<style scoped>\n",
       "    .dataframe tbody tr th:only-of-type {\n",
       "        vertical-align: middle;\n",
       "    }\n",
       "\n",
       "    .dataframe tbody tr th {\n",
       "        vertical-align: top;\n",
       "    }\n",
       "\n",
       "    .dataframe thead th {\n",
       "        text-align: right;\n",
       "    }\n",
       "</style>\n",
       "<table border=\"1\" class=\"dataframe\">\n",
       "  <thead>\n",
       "    <tr style=\"text-align: right;\">\n",
       "      <th></th>\n",
       "      <th>bedrooms</th>\n",
       "      <th>bathrooms</th>\n",
       "      <th>sqft</th>\n",
       "      <th>tax_value</th>\n",
       "      <th>year_built</th>\n",
       "      <th>taxamount</th>\n",
       "      <th>fips</th>\n",
       "    </tr>\n",
       "  </thead>\n",
       "  <tbody>\n",
       "    <tr>\n",
       "      <th>1910903</th>\n",
       "      <td>3.0</td>\n",
       "      <td>2.0</td>\n",
       "      <td>1748.0</td>\n",
       "      <td>327671.0</td>\n",
       "      <td>1991.0</td>\n",
       "      <td>4056.58</td>\n",
       "      <td>6037.0</td>\n",
       "    </tr>\n",
       "    <tr>\n",
       "      <th>1121850</th>\n",
       "      <td>2.0</td>\n",
       "      <td>1.0</td>\n",
       "      <td>1013.0</td>\n",
       "      <td>266671.0</td>\n",
       "      <td>1952.0</td>\n",
       "      <td>3215.39</td>\n",
       "      <td>6037.0</td>\n",
       "    </tr>\n",
       "    <tr>\n",
       "      <th>203116</th>\n",
       "      <td>2.0</td>\n",
       "      <td>1.0</td>\n",
       "      <td>806.0</td>\n",
       "      <td>375642.0</td>\n",
       "      <td>1947.0</td>\n",
       "      <td>4460.20</td>\n",
       "      <td>6059.0</td>\n",
       "    </tr>\n",
       "    <tr>\n",
       "      <th>875053</th>\n",
       "      <td>4.0</td>\n",
       "      <td>2.0</td>\n",
       "      <td>2098.0</td>\n",
       "      <td>269425.0</td>\n",
       "      <td>1988.0</td>\n",
       "      <td>8812.36</td>\n",
       "      <td>6037.0</td>\n",
       "    </tr>\n",
       "    <tr>\n",
       "      <th>715348</th>\n",
       "      <td>3.0</td>\n",
       "      <td>2.0</td>\n",
       "      <td>1880.0</td>\n",
       "      <td>246643.0</td>\n",
       "      <td>1965.0</td>\n",
       "      <td>2853.09</td>\n",
       "      <td>6037.0</td>\n",
       "    </tr>\n",
       "  </tbody>\n",
       "</table>\n",
       "</div>"
      ],
      "text/plain": [
       "         bedrooms  bathrooms    sqft  tax_value  year_built  taxamount    fips\n",
       "1910903       3.0        2.0  1748.0   327671.0      1991.0    4056.58  6037.0\n",
       "1121850       2.0        1.0  1013.0   266671.0      1952.0    3215.39  6037.0\n",
       "203116        2.0        1.0   806.0   375642.0      1947.0    4460.20  6059.0\n",
       "875053        4.0        2.0  2098.0   269425.0      1988.0    8812.36  6037.0\n",
       "715348        3.0        2.0  1880.0   246643.0      1965.0    2853.09  6037.0"
      ]
     },
     "execution_count": 21,
     "metadata": {},
     "output_type": "execute_result"
    }
   ],
   "source": [
    "train.head()"
   ]
  }
 ],
 "metadata": {
  "kernelspec": {
   "display_name": "Python 3 (ipykernel)",
   "language": "python",
   "name": "python3"
  },
  "language_info": {
   "codemirror_mode": {
    "name": "ipython",
    "version": 3
   },
   "file_extension": ".py",
   "mimetype": "text/x-python",
   "name": "python",
   "nbconvert_exporter": "python",
   "pygments_lexer": "ipython3",
   "version": "3.9.12"
  }
 },
 "nbformat": 4,
 "nbformat_minor": 5
}
