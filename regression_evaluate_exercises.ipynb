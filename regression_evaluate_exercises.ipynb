{
 "cells": [
  {
   "cell_type": "code",
   "execution_count": 1,
   "id": "98ede7b9",
   "metadata": {},
   "outputs": [],
   "source": [
    "#standard \n",
    "import pandas as pd\n",
    "import numpy as np\n",
    "\n",
    "#viz\n",
    "import matplotlib.pyplot as plt\n",
    "import seaborn as sns\n",
    "\n",
    "#my wrangle file\n",
    "import wrangle"
   ]
  },
  {
   "cell_type": "markdown",
   "id": "7256930a",
   "metadata": {},
   "source": [
    "### Do you work for this exercise in either a jupyter notebook named evaluate within your regression-exercises repository. By the end of this exercise you will also create a python script named evaluate, so the overall deliverables for this exercise are the python script and jupyter notebook both with the name evaluate within your regression-exercises repo."
   ]
  },
  {
   "cell_type": "markdown",
   "id": "29d1308d",
   "metadata": {},
   "source": [
    "### Load your zillow dataset."
   ]
  },
  {
   "cell_type": "code",
   "execution_count": 2,
   "id": "42bce35c",
   "metadata": {},
   "outputs": [
    {
     "name": "stdout",
     "output_type": "stream",
     "text": [
      "train: (1278128, 7)\n",
      "validate: (426043, 7)\n",
      "test: (426043, 7)\n"
     ]
    }
   ],
   "source": [
    "train, validate, test = wrangle.split_clean_zillow()"
   ]
  },
  {
   "cell_type": "code",
   "execution_count": 3,
   "id": "566861c5",
   "metadata": {},
   "outputs": [
    {
     "data": {
      "text/html": [
       "<div>\n",
       "<style scoped>\n",
       "    .dataframe tbody tr th:only-of-type {\n",
       "        vertical-align: middle;\n",
       "    }\n",
       "\n",
       "    .dataframe tbody tr th {\n",
       "        vertical-align: top;\n",
       "    }\n",
       "\n",
       "    .dataframe thead th {\n",
       "        text-align: right;\n",
       "    }\n",
       "</style>\n",
       "<table border=\"1\" class=\"dataframe\">\n",
       "  <thead>\n",
       "    <tr style=\"text-align: right;\">\n",
       "      <th></th>\n",
       "      <th>bedrooms</th>\n",
       "      <th>bathrooms</th>\n",
       "      <th>sqft</th>\n",
       "      <th>home_value</th>\n",
       "      <th>year_built</th>\n",
       "      <th>sale_tax</th>\n",
       "      <th>fips</th>\n",
       "    </tr>\n",
       "  </thead>\n",
       "  <tbody>\n",
       "    <tr>\n",
       "      <th>107815</th>\n",
       "      <td>3.0</td>\n",
       "      <td>1.5</td>\n",
       "      <td>1480.0</td>\n",
       "      <td>239760.0</td>\n",
       "      <td>1900.0</td>\n",
       "      <td>2798.60</td>\n",
       "      <td>6111.0</td>\n",
       "    </tr>\n",
       "    <tr>\n",
       "      <th>304808</th>\n",
       "      <td>4.0</td>\n",
       "      <td>3.0</td>\n",
       "      <td>2863.0</td>\n",
       "      <td>1791635.0</td>\n",
       "      <td>1967.0</td>\n",
       "      <td>21681.16</td>\n",
       "      <td>6037.0</td>\n",
       "    </tr>\n",
       "    <tr>\n",
       "      <th>2036858</th>\n",
       "      <td>3.0</td>\n",
       "      <td>3.0</td>\n",
       "      <td>1793.0</td>\n",
       "      <td>223027.0</td>\n",
       "      <td>2002.0</td>\n",
       "      <td>2468.05</td>\n",
       "      <td>6037.0</td>\n",
       "    </tr>\n",
       "    <tr>\n",
       "      <th>802962</th>\n",
       "      <td>4.0</td>\n",
       "      <td>2.0</td>\n",
       "      <td>1590.0</td>\n",
       "      <td>422110.0</td>\n",
       "      <td>1952.0</td>\n",
       "      <td>8013.93</td>\n",
       "      <td>6037.0</td>\n",
       "    </tr>\n",
       "    <tr>\n",
       "      <th>1662966</th>\n",
       "      <td>4.0</td>\n",
       "      <td>3.0</td>\n",
       "      <td>1946.0</td>\n",
       "      <td>434229.0</td>\n",
       "      <td>1959.0</td>\n",
       "      <td>5394.41</td>\n",
       "      <td>6037.0</td>\n",
       "    </tr>\n",
       "  </tbody>\n",
       "</table>\n",
       "</div>"
      ],
      "text/plain": [
       "         bedrooms  bathrooms    sqft  home_value  year_built  sale_tax    fips\n",
       "107815        3.0        1.5  1480.0    239760.0      1900.0   2798.60  6111.0\n",
       "304808        4.0        3.0  2863.0   1791635.0      1967.0  21681.16  6037.0\n",
       "2036858       3.0        3.0  1793.0    223027.0      2002.0   2468.05  6037.0\n",
       "802962        4.0        2.0  1590.0    422110.0      1952.0   8013.93  6037.0\n",
       "1662966       4.0        3.0  1946.0    434229.0      1959.0   5394.41  6037.0"
      ]
     },
     "execution_count": 3,
     "metadata": {},
     "output_type": "execute_result"
    }
   ],
   "source": [
    "train.head()"
   ]
  },
  {
   "cell_type": "markdown",
   "id": "a2971cfb",
   "metadata": {},
   "source": [
    "### Fit a linear regression model (ordinary least squares) and compute yhat, predictions of taxvaluedollarcnt using only calculatedfinishedsqft. Here is some sample code to get you started:"
   ]
  },
  {
   "cell_type": "code",
   "execution_count": 4,
   "id": "0ef34ca0",
   "metadata": {},
   "outputs": [],
   "source": [
    "# from sklearn.linear_model import LinearRegression\n",
    "\n",
    "# # assuming X and y are already defined\n",
    "# model = LinearRegression().fit(X, y)\n",
    "# predictions = model.predict(X)"
   ]
  },
  {
   "cell_type": "markdown",
   "id": "3a918f04",
   "metadata": {},
   "source": [
    "### Modify and add to the code above as necessary for it to work with the zillow dataset."
   ]
  },
  {
   "cell_type": "code",
   "execution_count": 5,
   "id": "5bdca361",
   "metadata": {},
   "outputs": [
    {
     "data": {
      "text/html": [
       "<div>\n",
       "<style scoped>\n",
       "    .dataframe tbody tr th:only-of-type {\n",
       "        vertical-align: middle;\n",
       "    }\n",
       "\n",
       "    .dataframe tbody tr th {\n",
       "        vertical-align: top;\n",
       "    }\n",
       "\n",
       "    .dataframe thead th {\n",
       "        text-align: right;\n",
       "    }\n",
       "</style>\n",
       "<table border=\"1\" class=\"dataframe\">\n",
       "  <thead>\n",
       "    <tr style=\"text-align: right;\">\n",
       "      <th></th>\n",
       "      <th>bedrooms</th>\n",
       "      <th>bathrooms</th>\n",
       "      <th>sqft</th>\n",
       "      <th>home_value</th>\n",
       "      <th>year_built</th>\n",
       "      <th>sale_tax</th>\n",
       "      <th>fips</th>\n",
       "    </tr>\n",
       "  </thead>\n",
       "  <tbody>\n",
       "    <tr>\n",
       "      <th>107815</th>\n",
       "      <td>3.0</td>\n",
       "      <td>1.5</td>\n",
       "      <td>1480.0</td>\n",
       "      <td>239760.0</td>\n",
       "      <td>1900.0</td>\n",
       "      <td>2798.60</td>\n",
       "      <td>6111.0</td>\n",
       "    </tr>\n",
       "    <tr>\n",
       "      <th>304808</th>\n",
       "      <td>4.0</td>\n",
       "      <td>3.0</td>\n",
       "      <td>2863.0</td>\n",
       "      <td>1791635.0</td>\n",
       "      <td>1967.0</td>\n",
       "      <td>21681.16</td>\n",
       "      <td>6037.0</td>\n",
       "    </tr>\n",
       "    <tr>\n",
       "      <th>2036858</th>\n",
       "      <td>3.0</td>\n",
       "      <td>3.0</td>\n",
       "      <td>1793.0</td>\n",
       "      <td>223027.0</td>\n",
       "      <td>2002.0</td>\n",
       "      <td>2468.05</td>\n",
       "      <td>6037.0</td>\n",
       "    </tr>\n",
       "    <tr>\n",
       "      <th>802962</th>\n",
       "      <td>4.0</td>\n",
       "      <td>2.0</td>\n",
       "      <td>1590.0</td>\n",
       "      <td>422110.0</td>\n",
       "      <td>1952.0</td>\n",
       "      <td>8013.93</td>\n",
       "      <td>6037.0</td>\n",
       "    </tr>\n",
       "    <tr>\n",
       "      <th>1662966</th>\n",
       "      <td>4.0</td>\n",
       "      <td>3.0</td>\n",
       "      <td>1946.0</td>\n",
       "      <td>434229.0</td>\n",
       "      <td>1959.0</td>\n",
       "      <td>5394.41</td>\n",
       "      <td>6037.0</td>\n",
       "    </tr>\n",
       "  </tbody>\n",
       "</table>\n",
       "</div>"
      ],
      "text/plain": [
       "         bedrooms  bathrooms    sqft  home_value  year_built  sale_tax    fips\n",
       "107815        3.0        1.5  1480.0    239760.0      1900.0   2798.60  6111.0\n",
       "304808        4.0        3.0  2863.0   1791635.0      1967.0  21681.16  6037.0\n",
       "2036858       3.0        3.0  1793.0    223027.0      2002.0   2468.05  6037.0\n",
       "802962        4.0        2.0  1590.0    422110.0      1952.0   8013.93  6037.0\n",
       "1662966       4.0        3.0  1946.0    434229.0      1959.0   5394.41  6037.0"
      ]
     },
     "execution_count": 5,
     "metadata": {},
     "output_type": "execute_result"
    }
   ],
   "source": [
    "train.head()"
   ]
  },
  {
   "cell_type": "code",
   "execution_count": 6,
   "id": "f9967f56",
   "metadata": {},
   "outputs": [],
   "source": [
    "#drop extra columns\n",
    "train = train.drop(columns=['bedrooms','bathrooms',\n",
    "                    'year_built','sale_tax', 'fips'])"
   ]
  },
  {
   "cell_type": "code",
   "execution_count": 7,
   "id": "8687d1a8",
   "metadata": {},
   "outputs": [
    {
     "data": {
      "text/html": [
       "<div>\n",
       "<style scoped>\n",
       "    .dataframe tbody tr th:only-of-type {\n",
       "        vertical-align: middle;\n",
       "    }\n",
       "\n",
       "    .dataframe tbody tr th {\n",
       "        vertical-align: top;\n",
       "    }\n",
       "\n",
       "    .dataframe thead th {\n",
       "        text-align: right;\n",
       "    }\n",
       "</style>\n",
       "<table border=\"1\" class=\"dataframe\">\n",
       "  <thead>\n",
       "    <tr style=\"text-align: right;\">\n",
       "      <th></th>\n",
       "      <th>sqft</th>\n",
       "      <th>home_value</th>\n",
       "    </tr>\n",
       "  </thead>\n",
       "  <tbody>\n",
       "    <tr>\n",
       "      <th>107815</th>\n",
       "      <td>1480.0</td>\n",
       "      <td>239760.0</td>\n",
       "    </tr>\n",
       "    <tr>\n",
       "      <th>304808</th>\n",
       "      <td>2863.0</td>\n",
       "      <td>1791635.0</td>\n",
       "    </tr>\n",
       "    <tr>\n",
       "      <th>2036858</th>\n",
       "      <td>1793.0</td>\n",
       "      <td>223027.0</td>\n",
       "    </tr>\n",
       "    <tr>\n",
       "      <th>802962</th>\n",
       "      <td>1590.0</td>\n",
       "      <td>422110.0</td>\n",
       "    </tr>\n",
       "    <tr>\n",
       "      <th>1662966</th>\n",
       "      <td>1946.0</td>\n",
       "      <td>434229.0</td>\n",
       "    </tr>\n",
       "  </tbody>\n",
       "</table>\n",
       "</div>"
      ],
      "text/plain": [
       "           sqft  home_value\n",
       "107815   1480.0    239760.0\n",
       "304808   2863.0   1791635.0\n",
       "2036858  1793.0    223027.0\n",
       "802962   1590.0    422110.0\n",
       "1662966  1946.0    434229.0"
      ]
     },
     "execution_count": 7,
     "metadata": {},
     "output_type": "execute_result"
    }
   ],
   "source": [
    "train.head()"
   ]
  },
  {
   "cell_type": "code",
   "execution_count": 8,
   "id": "41f0df7e",
   "metadata": {},
   "outputs": [],
   "source": [
    "from sklearn.preprocessing import MinMaxScaler"
   ]
  },
  {
   "cell_type": "code",
   "execution_count": 9,
   "id": "504e7cee",
   "metadata": {},
   "outputs": [],
   "source": [
    "# create the scaler and fit/transform my square footage column\n",
    "mms = MinMaxScaler()\n",
    "\n",
    "train['sqft'] = mms.fit_transform(train[['sqft']])"
   ]
  },
  {
   "cell_type": "code",
   "execution_count": 10,
   "id": "00b91b1b",
   "metadata": {},
   "outputs": [
    {
     "data": {
      "text/html": [
       "<div>\n",
       "<style scoped>\n",
       "    .dataframe tbody tr th:only-of-type {\n",
       "        vertical-align: middle;\n",
       "    }\n",
       "\n",
       "    .dataframe tbody tr th {\n",
       "        vertical-align: top;\n",
       "    }\n",
       "\n",
       "    .dataframe thead th {\n",
       "        text-align: right;\n",
       "    }\n",
       "</style>\n",
       "<table border=\"1\" class=\"dataframe\">\n",
       "  <thead>\n",
       "    <tr style=\"text-align: right;\">\n",
       "      <th></th>\n",
       "      <th>sqft</th>\n",
       "      <th>home_value</th>\n",
       "    </tr>\n",
       "  </thead>\n",
       "  <tbody>\n",
       "    <tr>\n",
       "      <th>107815</th>\n",
       "      <td>0.001553</td>\n",
       "      <td>239760.0</td>\n",
       "    </tr>\n",
       "    <tr>\n",
       "      <th>304808</th>\n",
       "      <td>0.003004</td>\n",
       "      <td>1791635.0</td>\n",
       "    </tr>\n",
       "    <tr>\n",
       "      <th>2036858</th>\n",
       "      <td>0.001881</td>\n",
       "      <td>223027.0</td>\n",
       "    </tr>\n",
       "    <tr>\n",
       "      <th>802962</th>\n",
       "      <td>0.001668</td>\n",
       "      <td>422110.0</td>\n",
       "    </tr>\n",
       "    <tr>\n",
       "      <th>1662966</th>\n",
       "      <td>0.002042</td>\n",
       "      <td>434229.0</td>\n",
       "    </tr>\n",
       "  </tbody>\n",
       "</table>\n",
       "</div>"
      ],
      "text/plain": [
       "             sqft  home_value\n",
       "107815   0.001553    239760.0\n",
       "304808   0.003004   1791635.0\n",
       "2036858  0.001881    223027.0\n",
       "802962   0.001668    422110.0\n",
       "1662966  0.002042    434229.0"
      ]
     },
     "execution_count": 10,
     "metadata": {},
     "output_type": "execute_result"
    }
   ],
   "source": [
    "train.head()"
   ]
  },
  {
   "cell_type": "code",
   "execution_count": 11,
   "id": "72ea4f48",
   "metadata": {},
   "outputs": [
    {
     "data": {
      "text/plain": [
       "0.0"
      ]
     },
     "execution_count": 11,
     "metadata": {},
     "output_type": "execute_result"
    }
   ],
   "source": [
    "train.sqft.min()"
   ]
  },
  {
   "cell_type": "code",
   "execution_count": 12,
   "id": "c9bac2a7",
   "metadata": {},
   "outputs": [
    {
     "data": {
      "text/plain": [
       "1.0"
      ]
     },
     "execution_count": 12,
     "metadata": {},
     "output_type": "execute_result"
    }
   ],
   "source": [
    "train.sqft.max()"
   ]
  },
  {
   "cell_type": "code",
   "execution_count": 13,
   "id": "d3f482c3",
   "metadata": {},
   "outputs": [],
   "source": [
    "#split into my X_train and y_train\n",
    "X_train = train[['sqft']]\n",
    "y_train = train.home_value\n",
    "\n",
    "X_validate = validate[['sqft']]\n",
    "y_validate = validate.home_value\n",
    "\n",
    "X_test = test[['sqft']]\n",
    "y_test = test.home_value"
   ]
  },
  {
   "cell_type": "code",
   "execution_count": 14,
   "id": "dc6f0d63",
   "metadata": {},
   "outputs": [
    {
     "data": {
      "text/html": [
       "<div>\n",
       "<style scoped>\n",
       "    .dataframe tbody tr th:only-of-type {\n",
       "        vertical-align: middle;\n",
       "    }\n",
       "\n",
       "    .dataframe tbody tr th {\n",
       "        vertical-align: top;\n",
       "    }\n",
       "\n",
       "    .dataframe thead th {\n",
       "        text-align: right;\n",
       "    }\n",
       "</style>\n",
       "<table border=\"1\" class=\"dataframe\">\n",
       "  <thead>\n",
       "    <tr style=\"text-align: right;\">\n",
       "      <th></th>\n",
       "      <th>sqft</th>\n",
       "    </tr>\n",
       "  </thead>\n",
       "  <tbody>\n",
       "    <tr>\n",
       "      <th>107815</th>\n",
       "      <td>0.001553</td>\n",
       "    </tr>\n",
       "    <tr>\n",
       "      <th>304808</th>\n",
       "      <td>0.003004</td>\n",
       "    </tr>\n",
       "    <tr>\n",
       "      <th>2036858</th>\n",
       "      <td>0.001881</td>\n",
       "    </tr>\n",
       "    <tr>\n",
       "      <th>802962</th>\n",
       "      <td>0.001668</td>\n",
       "    </tr>\n",
       "    <tr>\n",
       "      <th>1662966</th>\n",
       "      <td>0.002042</td>\n",
       "    </tr>\n",
       "  </tbody>\n",
       "</table>\n",
       "</div>"
      ],
      "text/plain": [
       "             sqft\n",
       "107815   0.001553\n",
       "304808   0.003004\n",
       "2036858  0.001881\n",
       "802962   0.001668\n",
       "1662966  0.002042"
      ]
     },
     "execution_count": 14,
     "metadata": {},
     "output_type": "execute_result"
    }
   ],
   "source": [
    "X_train.head()"
   ]
  },
  {
   "cell_type": "code",
   "execution_count": 15,
   "id": "4fb0c347",
   "metadata": {},
   "outputs": [
    {
     "data": {
      "text/plain": [
       "107815      239760.0\n",
       "304808     1791635.0\n",
       "2036858     223027.0\n",
       "802962      422110.0\n",
       "1662966     434229.0\n",
       "Name: home_value, dtype: float64"
      ]
     },
     "execution_count": 15,
     "metadata": {},
     "output_type": "execute_result"
    }
   ],
   "source": [
    "y_train.head()"
   ]
  },
  {
   "cell_type": "code",
   "execution_count": 16,
   "id": "a964bdef",
   "metadata": {},
   "outputs": [],
   "source": [
    "#make my ols model\n",
    "from sklearn.linear_model import LinearRegression\n",
    "\n",
    "model = LinearRegression().fit(X_train, y_train)\n",
    "predictions = model.predict(X_train)"
   ]
  },
  {
   "cell_type": "code",
   "execution_count": 17,
   "id": "b17de8a5",
   "metadata": {},
   "outputs": [
    {
     "data": {
      "text/plain": [
       "array([368351.35340969, 703991.8530067 , 444313.375372  , ...,\n",
       "       416889.38661244, 291903.95111537, 957360.38632505])"
      ]
     },
     "execution_count": 17,
     "metadata": {},
     "output_type": "execute_result"
    }
   ],
   "source": [
    "predictions"
   ]
  },
  {
   "cell_type": "code",
   "execution_count": 18,
   "id": "17711aad",
   "metadata": {},
   "outputs": [],
   "source": [
    "#save predictions into train df\n",
    "train['yhat'] = predictions"
   ]
  },
  {
   "cell_type": "code",
   "execution_count": 19,
   "id": "a441d11a",
   "metadata": {},
   "outputs": [
    {
     "data": {
      "text/html": [
       "<div>\n",
       "<style scoped>\n",
       "    .dataframe tbody tr th:only-of-type {\n",
       "        vertical-align: middle;\n",
       "    }\n",
       "\n",
       "    .dataframe tbody tr th {\n",
       "        vertical-align: top;\n",
       "    }\n",
       "\n",
       "    .dataframe thead th {\n",
       "        text-align: right;\n",
       "    }\n",
       "</style>\n",
       "<table border=\"1\" class=\"dataframe\">\n",
       "  <thead>\n",
       "    <tr style=\"text-align: right;\">\n",
       "      <th></th>\n",
       "      <th>sqft</th>\n",
       "      <th>home_value</th>\n",
       "      <th>yhat</th>\n",
       "    </tr>\n",
       "  </thead>\n",
       "  <tbody>\n",
       "    <tr>\n",
       "      <th>107815</th>\n",
       "      <td>0.001553</td>\n",
       "      <td>239760.0</td>\n",
       "      <td>368351.353410</td>\n",
       "    </tr>\n",
       "    <tr>\n",
       "      <th>304808</th>\n",
       "      <td>0.003004</td>\n",
       "      <td>1791635.0</td>\n",
       "      <td>703991.853007</td>\n",
       "    </tr>\n",
       "    <tr>\n",
       "      <th>2036858</th>\n",
       "      <td>0.001881</td>\n",
       "      <td>223027.0</td>\n",
       "      <td>444313.375372</td>\n",
       "    </tr>\n",
       "    <tr>\n",
       "      <th>802962</th>\n",
       "      <td>0.001668</td>\n",
       "      <td>422110.0</td>\n",
       "      <td>395047.271671</td>\n",
       "    </tr>\n",
       "    <tr>\n",
       "      <th>1662966</th>\n",
       "      <td>0.002042</td>\n",
       "      <td>434229.0</td>\n",
       "      <td>481444.970772</td>\n",
       "    </tr>\n",
       "  </tbody>\n",
       "</table>\n",
       "</div>"
      ],
      "text/plain": [
       "             sqft  home_value           yhat\n",
       "107815   0.001553    239760.0  368351.353410\n",
       "304808   0.003004   1791635.0  703991.853007\n",
       "2036858  0.001881    223027.0  444313.375372\n",
       "802962   0.001668    422110.0  395047.271671\n",
       "1662966  0.002042    434229.0  481444.970772"
      ]
     },
     "execution_count": 19,
     "metadata": {},
     "output_type": "execute_result"
    }
   ],
   "source": [
    "train.head()"
   ]
  },
  {
   "cell_type": "markdown",
   "id": "fa38ffc1",
   "metadata": {},
   "source": [
    "### Plot the residuals for the linear regression model that you made."
   ]
  },
  {
   "cell_type": "code",
   "execution_count": 20,
   "id": "d665eb80",
   "metadata": {},
   "outputs": [],
   "source": [
    "#calculate residuals (acutal - prediction)\n",
    "train['residuals'] = train.home_value - train.yhat"
   ]
  },
  {
   "cell_type": "code",
   "execution_count": 21,
   "id": "538dce48",
   "metadata": {},
   "outputs": [
    {
     "data": {
      "text/html": [
       "<div>\n",
       "<style scoped>\n",
       "    .dataframe tbody tr th:only-of-type {\n",
       "        vertical-align: middle;\n",
       "    }\n",
       "\n",
       "    .dataframe tbody tr th {\n",
       "        vertical-align: top;\n",
       "    }\n",
       "\n",
       "    .dataframe thead th {\n",
       "        text-align: right;\n",
       "    }\n",
       "</style>\n",
       "<table border=\"1\" class=\"dataframe\">\n",
       "  <thead>\n",
       "    <tr style=\"text-align: right;\">\n",
       "      <th></th>\n",
       "      <th>sqft</th>\n",
       "      <th>home_value</th>\n",
       "      <th>yhat</th>\n",
       "      <th>residuals</th>\n",
       "    </tr>\n",
       "  </thead>\n",
       "  <tbody>\n",
       "    <tr>\n",
       "      <th>107815</th>\n",
       "      <td>0.001553</td>\n",
       "      <td>239760.0</td>\n",
       "      <td>368351.353410</td>\n",
       "      <td>-1.285914e+05</td>\n",
       "    </tr>\n",
       "    <tr>\n",
       "      <th>304808</th>\n",
       "      <td>0.003004</td>\n",
       "      <td>1791635.0</td>\n",
       "      <td>703991.853007</td>\n",
       "      <td>1.087643e+06</td>\n",
       "    </tr>\n",
       "    <tr>\n",
       "      <th>2036858</th>\n",
       "      <td>0.001881</td>\n",
       "      <td>223027.0</td>\n",
       "      <td>444313.375372</td>\n",
       "      <td>-2.212864e+05</td>\n",
       "    </tr>\n",
       "    <tr>\n",
       "      <th>802962</th>\n",
       "      <td>0.001668</td>\n",
       "      <td>422110.0</td>\n",
       "      <td>395047.271671</td>\n",
       "      <td>2.706273e+04</td>\n",
       "    </tr>\n",
       "    <tr>\n",
       "      <th>1662966</th>\n",
       "      <td>0.002042</td>\n",
       "      <td>434229.0</td>\n",
       "      <td>481444.970772</td>\n",
       "      <td>-4.721597e+04</td>\n",
       "    </tr>\n",
       "  </tbody>\n",
       "</table>\n",
       "</div>"
      ],
      "text/plain": [
       "             sqft  home_value           yhat     residuals\n",
       "107815   0.001553    239760.0  368351.353410 -1.285914e+05\n",
       "304808   0.003004   1791635.0  703991.853007  1.087643e+06\n",
       "2036858  0.001881    223027.0  444313.375372 -2.212864e+05\n",
       "802962   0.001668    422110.0  395047.271671  2.706273e+04\n",
       "1662966  0.002042    434229.0  481444.970772 -4.721597e+04"
      ]
     },
     "execution_count": 21,
     "metadata": {},
     "output_type": "execute_result"
    }
   ],
   "source": [
    "train.head()"
   ]
  },
  {
   "cell_type": "code",
   "execution_count": 22,
   "id": "67b54bd3",
   "metadata": {},
   "outputs": [
    {
     "data": {
      "image/png": "[encoded data removed]",
      "text/plain": [
       "<Figure size 432x288 with 1 Axes>"
      ]
     },
     "metadata": {
      "needs_background": "light"
     },
     "output_type": "display_data"
    }
   ],
   "source": [
    "#make scatterplot of y-value vs residuals\n",
    "sns.scatterplot(data=train, x='home_value', y='residuals')\n",
    "\n",
    "plt.xlabel('Home Value')\n",
    "plt.ylabel('Residuals')\n",
    "plt.title('Residual vs Home Value Plot')\n",
    "plt.show()"
   ]
  },
  {
   "cell_type": "markdown",
   "id": "4e72a7cb",
   "metadata": {},
   "source": [
    "### Calculate the sum of squared errors, explained sum of squares, total sum of squares, mean squared error, and root mean squared error for your model."
   ]
  },
  {
   "cell_type": "code",
   "execution_count": 23,
   "id": "1b80a8fa",
   "metadata": {},
   "outputs": [],
   "source": [
    "from sklearn.metrics import mean_squared_error"
   ]
  },
  {
   "cell_type": "markdown",
   "id": "159c49c9",
   "metadata": {},
   "source": [
    "#### MSE - mean squared error"
   ]
  },
  {
   "cell_type": "code",
   "execution_count": 24,
   "id": "0db7a7a5",
   "metadata": {},
   "outputs": [
    {
     "data": {
      "text/plain": [
       "357135154606.70276"
      ]
     },
     "execution_count": 24,
     "metadata": {},
     "output_type": "execute_result"
    }
   ],
   "source": [
    "MSE = mean_squared_error(train.home_value, train.yhat)\n",
    "MSE"
   ]
  },
  {
   "cell_type": "markdown",
   "id": "39e41469",
   "metadata": {},
   "source": [
    "#### SSE - sum or squared errors"
   ]
  },
  {
   "cell_type": "code",
   "execution_count": 25,
   "id": "b4415a59",
   "metadata": {},
   "outputs": [
    {
     "data": {
      "text/plain": [
       "4.564644408871558e+17"
      ]
     },
     "execution_count": 25,
     "metadata": {},
     "output_type": "execute_result"
    }
   ],
   "source": [
    "SSE = MSE * len(train)\n",
    "SSE"
   ]
  },
  {
   "cell_type": "markdown",
   "id": "79156302",
   "metadata": {},
   "source": [
    "#### RMSE - root mean squared eror"
   ]
  },
  {
   "cell_type": "code",
   "execution_count": 26,
   "id": "cc2bded6",
   "metadata": {},
   "outputs": [
    {
     "data": {
      "text/plain": [
       "597607.8602283463"
      ]
     },
     "execution_count": 26,
     "metadata": {},
     "output_type": "execute_result"
    }
   ],
   "source": [
    "RMSE = MSE**.5\n",
    "RMSE"
   ]
  },
  {
   "cell_type": "markdown",
   "id": "1f4aa7ee",
   "metadata": {},
   "source": [
    "#### ESS - explained sum of squares"
   ]
  },
  {
   "cell_type": "code",
   "execution_count": 27,
   "id": "1bee48c4",
   "metadata": {},
   "outputs": [
    {
     "data": {
      "text/plain": [
       "1.2420977181316771e+17"
      ]
     },
     "execution_count": 27,
     "metadata": {},
     "output_type": "execute_result"
    }
   ],
   "source": [
    "ESS = ((train.yhat - train.home_value.mean())**2).sum()\n",
    "ESS"
   ]
  },
  {
   "cell_type": "markdown",
   "id": "a2b28b7d",
   "metadata": {},
   "source": [
    "#### TSS - total sum of squares"
   ]
  },
  {
   "cell_type": "code",
   "execution_count": 28,
   "id": "d590b40c",
   "metadata": {},
   "outputs": [
    {
     "data": {
      "text/plain": [
       "5.806742127003235e+17"
      ]
     },
     "execution_count": 28,
     "metadata": {},
     "output_type": "execute_result"
    }
   ],
   "source": [
    "TSS = ESS + SSE\n",
    "TSS"
   ]
  },
  {
   "cell_type": "markdown",
   "id": "2570a4d4",
   "metadata": {},
   "source": [
    "### Calculate the sum of squared errors, mean squared error, and root mean squared error for the baseline model (i.e. a model that always predicts the average taxvaluedollarcnt amount)."
   ]
  },
  {
   "cell_type": "code",
   "execution_count": 29,
   "id": "2b9bbc4a",
   "metadata": {},
   "outputs": [],
   "source": [
    "train['baseline'] = train.home_value.mean()"
   ]
  },
  {
   "cell_type": "code",
   "execution_count": 30,
   "id": "0e919e86",
   "metadata": {},
   "outputs": [
    {
     "data": {
      "text/html": [
       "<div>\n",
       "<style scoped>\n",
       "    .dataframe tbody tr th:only-of-type {\n",
       "        vertical-align: middle;\n",
       "    }\n",
       "\n",
       "    .dataframe tbody tr th {\n",
       "        vertical-align: top;\n",
       "    }\n",
       "\n",
       "    .dataframe thead th {\n",
       "        text-align: right;\n",
       "    }\n",
       "</style>\n",
       "<table border=\"1\" class=\"dataframe\">\n",
       "  <thead>\n",
       "    <tr style=\"text-align: right;\">\n",
       "      <th></th>\n",
       "      <th>sqft</th>\n",
       "      <th>home_value</th>\n",
       "      <th>yhat</th>\n",
       "      <th>residuals</th>\n",
       "      <th>baseline</th>\n",
       "    </tr>\n",
       "  </thead>\n",
       "  <tbody>\n",
       "    <tr>\n",
       "      <th>107815</th>\n",
       "      <td>0.001553</td>\n",
       "      <td>239760.0</td>\n",
       "      <td>368351.353410</td>\n",
       "      <td>-1.285914e+05</td>\n",
       "      <td>461552.518428</td>\n",
       "    </tr>\n",
       "    <tr>\n",
       "      <th>304808</th>\n",
       "      <td>0.003004</td>\n",
       "      <td>1791635.0</td>\n",
       "      <td>703991.853007</td>\n",
       "      <td>1.087643e+06</td>\n",
       "      <td>461552.518428</td>\n",
       "    </tr>\n",
       "    <tr>\n",
       "      <th>2036858</th>\n",
       "      <td>0.001881</td>\n",
       "      <td>223027.0</td>\n",
       "      <td>444313.375372</td>\n",
       "      <td>-2.212864e+05</td>\n",
       "      <td>461552.518428</td>\n",
       "    </tr>\n",
       "    <tr>\n",
       "      <th>802962</th>\n",
       "      <td>0.001668</td>\n",
       "      <td>422110.0</td>\n",
       "      <td>395047.271671</td>\n",
       "      <td>2.706273e+04</td>\n",
       "      <td>461552.518428</td>\n",
       "    </tr>\n",
       "    <tr>\n",
       "      <th>1662966</th>\n",
       "      <td>0.002042</td>\n",
       "      <td>434229.0</td>\n",
       "      <td>481444.970772</td>\n",
       "      <td>-4.721597e+04</td>\n",
       "      <td>461552.518428</td>\n",
       "    </tr>\n",
       "  </tbody>\n",
       "</table>\n",
       "</div>"
      ],
      "text/plain": [
       "             sqft  home_value           yhat     residuals       baseline\n",
       "107815   0.001553    239760.0  368351.353410 -1.285914e+05  461552.518428\n",
       "304808   0.003004   1791635.0  703991.853007  1.087643e+06  461552.518428\n",
       "2036858  0.001881    223027.0  444313.375372 -2.212864e+05  461552.518428\n",
       "802962   0.001668    422110.0  395047.271671  2.706273e+04  461552.518428\n",
       "1662966  0.002042    434229.0  481444.970772 -4.721597e+04  461552.518428"
      ]
     },
     "execution_count": 30,
     "metadata": {},
     "output_type": "execute_result"
    }
   ],
   "source": [
    "train.head()"
   ]
  },
  {
   "cell_type": "markdown",
   "id": "c5ca01c0",
   "metadata": {},
   "source": [
    "#### MSE"
   ]
  },
  {
   "cell_type": "code",
   "execution_count": 31,
   "id": "c337a7e5",
   "metadata": {},
   "outputs": [
    {
     "data": {
      "text/plain": [
       "454316166065.21375"
      ]
     },
     "execution_count": 31,
     "metadata": {},
     "output_type": "execute_result"
    }
   ],
   "source": [
    "MSE_baseline = mean_squared_error(train.home_value, train.baseline)\n",
    "MSE_baseline"
   ]
  },
  {
   "cell_type": "markdown",
   "id": "d89cf43f",
   "metadata": {},
   "source": [
    "#### SSE"
   ]
  },
  {
   "cell_type": "code",
   "execution_count": 32,
   "id": "112175cf",
   "metadata": {},
   "outputs": [
    {
     "data": {
      "text/plain": [
       "5.806742127005996e+17"
      ]
     },
     "execution_count": 32,
     "metadata": {},
     "output_type": "execute_result"
    }
   ],
   "source": [
    "SSE_baseline = MSE_baseline * len(train)\n",
    "SSE_baseline"
   ]
  },
  {
   "cell_type": "markdown",
   "id": "bc5f1a81",
   "metadata": {},
   "source": [
    "#### RSME"
   ]
  },
  {
   "cell_type": "code",
   "execution_count": 33,
   "id": "bb6f6c75",
   "metadata": {},
   "outputs": [
    {
     "data": {
      "text/plain": [
       "674029.7961256711"
      ]
     },
     "execution_count": 33,
     "metadata": {},
     "output_type": "execute_result"
    }
   ],
   "source": [
    "RMSE_baseline = MSE_baseline**.5\n",
    "RMSE_baseline"
   ]
  },
  {
   "cell_type": "markdown",
   "id": "d6bd99c2",
   "metadata": {},
   "source": [
    "### Write python code that compares the sum of squared errors for your model against the sum of squared errors for the baseline model and outputs whether or not your model performs better than the baseline model."
   ]
  },
  {
   "cell_type": "code",
   "execution_count": 34,
   "id": "2ddc347e",
   "metadata": {},
   "outputs": [
    {
     "name": "stdout",
     "output_type": "stream",
     "text": [
      "My OSL model performs better than baseline\n"
     ]
    }
   ],
   "source": [
    "if SSE < SSE_baseline:\n",
    "    print('My OSL model performs better than baseline')\n",
    "else:\n",
    "    print('My OSL model performs worse than baseline. :( )')"
   ]
  },
  {
   "cell_type": "markdown",
   "id": "3e50b329",
   "metadata": {},
   "source": [
    "### What is the amount of variance explained in your model?"
   ]
  },
  {
   "cell_type": "code",
   "execution_count": 35,
   "id": "5715ac8b",
   "metadata": {},
   "outputs": [
    {
     "data": {
      "text/plain": [
       "0.21390612687198898"
      ]
     },
     "execution_count": 35,
     "metadata": {},
     "output_type": "execute_result"
    }
   ],
   "source": [
    "#manually\n",
    "R2 = ESS / TSS\n",
    "R2"
   ]
  },
  {
   "cell_type": "code",
   "execution_count": 36,
   "id": "3203d21d",
   "metadata": {},
   "outputs": [],
   "source": [
    "from sklearn.metrics import r2_score"
   ]
  },
  {
   "cell_type": "code",
   "execution_count": 37,
   "id": "44c1948d",
   "metadata": {},
   "outputs": [
    {
     "data": {
      "text/plain": [
       "0.21390612687236266"
      ]
     },
     "execution_count": 37,
     "metadata": {},
     "output_type": "execute_result"
    }
   ],
   "source": [
    "#from sklearn\n",
    "r2_score(train.home_value, train.yhat)"
   ]
  },
  {
   "cell_type": "markdown",
   "id": "84ad0d32",
   "metadata": {},
   "source": [
    "### Is your model better than the baseline model?"
   ]
  },
  {
   "cell_type": "code",
   "execution_count": 38,
   "id": "86ecde94",
   "metadata": {},
   "outputs": [
    {
     "data": {
      "text/plain": [
       "76421.93589732482"
      ]
     },
     "execution_count": 38,
     "metadata": {},
     "output_type": "execute_result"
    }
   ],
   "source": [
    "RMSE_baseline - RMSE"
   ]
  },
  {
   "cell_type": "markdown",
   "id": "2fd3c24e",
   "metadata": {},
   "source": [
    "> it is better, but its still pretty bad and we probably don't want to use it"
   ]
  },
  {
   "cell_type": "markdown",
   "id": "4b4f4a7d",
   "metadata": {},
   "source": [
    "### Create a file named evaluate.py that contains the following functions."
   ]
  },
  {
   "cell_type": "markdown",
   "id": "7958db45",
   "metadata": {},
   "source": [
    "- plot_residuals(y, yhat): creates a residual plot\n",
    "- regression_errors(y, yhat): returns the following values:\n",
    "    - sum of squared errors (SSE)\n",
    "    - explained sum of squares (ESS)\n",
    "    - total sum of squares (TSS)\n",
    "    - mean squared error (MSE)\n",
    "    - root mean squared error (RMSE)\n",
    "- baseline_mean_errors(y): computes the SSE, MSE, and RMSE for the baseline model\n",
    "- better_than_baseline(y, yhat): returns true if your model performs better than the baseline, otherwise false"
   ]
  },
  {
   "cell_type": "code",
   "execution_count": 39,
   "id": "71d8e244",
   "metadata": {},
   "outputs": [],
   "source": [
    "def plot_residuals(y, yhat):\n",
    "    residuals = y - yhat\n",
    "    \n",
    "    plt.scatter(x=y, y=residuals)\n",
    "    plt.xlabel('Home Value')\n",
    "    plt.ylabel('Residuals')\n",
    "    plt.title('Residual vs Home Value Plot')\n",
    "    plt.show()"
   ]
  },
  {
   "cell_type": "code",
   "execution_count": 40,
   "id": "2d60c9d3",
   "metadata": {},
   "outputs": [
    {
     "data": {
      "image/png": "[encoded data removed]",
      "text/plain": [
       "<Figure size 432x288 with 1 Axes>"
      ]
     },
     "metadata": {
      "needs_background": "light"
     },
     "output_type": "display_data"
    }
   ],
   "source": [
    "plot_residuals(train.home_value, train.yhat)"
   ]
  },
  {
   "cell_type": "code",
   "execution_count": 41,
   "id": "14ec8d9c",
   "metadata": {},
   "outputs": [],
   "source": [
    "def regression_errors(y, yhat):\n",
    "    MSE = mean_squared_error(y, yhat)\n",
    "    SSE = MSE * len(y)\n",
    "    RMSE = MSE**.5\n",
    "    \n",
    "    ESS = ((yhat - y.mean())**2).sum()\n",
    "    TSS = ESS + SSE\n",
    "    \n",
    "    return SSE, ESS, TSS, MSE, RMSE"
   ]
  },
  {
   "cell_type": "code",
   "execution_count": 42,
   "id": "3ad0eaef",
   "metadata": {},
   "outputs": [
    {
     "data": {
      "text/plain": [
       "(4.564644408871558e+17,\n",
       " 1.2420977181316771e+17,\n",
       " 5.806742127003235e+17,\n",
       " 357135154606.70276,\n",
       " 597607.8602283463)"
      ]
     },
     "execution_count": 42,
     "metadata": {},
     "output_type": "execute_result"
    }
   ],
   "source": [
    "regression_errors(train.home_value, train.yhat)"
   ]
  },
  {
   "cell_type": "code",
   "execution_count": 43,
   "id": "61f89124",
   "metadata": {},
   "outputs": [],
   "source": [
    "def baseline_mean_errors(y):\n",
    "    baseline = np.repeat(y.mean(), len(y))\n",
    "    \n",
    "    MSE = mean_squared_error(y, baseline)\n",
    "    SSE = MSE * len(y)\n",
    "    RMSE = MSE**.5\n",
    "    \n",
    "    return SSE, MSE, RMSE\n"
   ]
  },
  {
   "cell_type": "code",
   "execution_count": 44,
   "id": "27c9216b",
   "metadata": {},
   "outputs": [
    {
     "data": {
      "text/plain": [
       "(5.806742127005996e+17, 454316166065.21375, 674029.7961256711)"
      ]
     },
     "execution_count": 44,
     "metadata": {},
     "output_type": "execute_result"
    }
   ],
   "source": [
    "baseline_mean_errors(train.home_value)"
   ]
  },
  {
   "cell_type": "code",
   "execution_count": 45,
   "id": "f5feaec0",
   "metadata": {},
   "outputs": [],
   "source": [
    "def better_than_baseline(y, yhat):\n",
    "    SSE, ESS, TSS, MSE, RMSE = regression_errors(y, yhat)\n",
    "    \n",
    "    SSE_baseline, MSE_baseline, RMSE_baseline = baseline_mean_errors(y)\n",
    "    \n",
    "    if SSE < SSE_baseline:\n",
    "        print('My OSL model performs better than baseline')\n",
    "    else:\n",
    "        print('My OSL model performs worse than baseline. :( )')"
   ]
  },
  {
   "cell_type": "code",
   "execution_count": 46,
   "id": "bb19b645",
   "metadata": {},
   "outputs": [
    {
     "name": "stdout",
     "output_type": "stream",
     "text": [
      "My OSL model performs better than baseline\n"
     ]
    }
   ],
   "source": [
    "better_than_baseline(train.home_value, train.yhat)\n"
   ]
  },
  {
   "cell_type": "code",
   "execution_count": null,
   "id": "9eea87f3",
   "metadata": {},
   "outputs": [],
   "source": []
  }
 ],
 "metadata": {
  "kernelspec": {
   "display_name": "Python 3 (ipykernel)",
   "language": "python",
   "name": "python3"
  },
  "language_info": {
   "codemirror_mode": {
    "name": "ipython",
    "version": 3
   },
   "file_extension": ".py",
   "mimetype": "text/x-python",
   "name": "python",
   "nbconvert_exporter": "python",
   "pygments_lexer": "ipython3",
   "version": "3.9.12"
  }
 },
 "nbformat": 4,
 "nbformat_minor": 5
}
